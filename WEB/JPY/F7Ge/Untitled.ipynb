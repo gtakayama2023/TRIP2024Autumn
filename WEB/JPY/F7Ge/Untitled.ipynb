{
 "cells": [
  {
   "cell_type": "code",
   "execution_count": 2,
   "id": "6ed267b1-c4c9-4839-ae43-aa726492636e",
   "metadata": {},
   "outputs": [
    {
     "ename": "AttributeError",
     "evalue": "module 'posixpath' has no attribute 'splittext'",
     "output_type": "error",
     "traceback": [
      "\u001b[0;31m---------------------------------------------------------------------------\u001b[0m",
      "\u001b[0;31mAttributeError\u001b[0m                            Traceback (most recent call last)",
      "Cell \u001b[0;32mIn[2], line 11\u001b[0m\n\u001b[1;32m      8\u001b[0m file_path \u001b[38;5;241m=\u001b[39m \u001b[38;5;124m'\u001b[39m\u001b[38;5;124m../../../ROOT/f7ge_test0150.root\u001b[39m\u001b[38;5;124m'\u001b[39m\n\u001b[1;32m      9\u001b[0m root_file \u001b[38;5;241m=\u001b[39m r\u001b[38;5;241m.\u001b[39mTFile(file_path)\n\u001b[0;32m---> 11\u001b[0m base_name \u001b[38;5;241m=\u001b[39m \u001b[43mos\u001b[49m\u001b[38;5;241;43m.\u001b[39;49m\u001b[43mpath\u001b[49m\u001b[38;5;241;43m.\u001b[39;49m\u001b[43msplittext\u001b[49m(os\u001b[38;5;241m.\u001b[39mpath\u001b[38;5;241m.\u001b[39mbasename(file_path))[\u001b[38;5;241m0\u001b[39m]\n",
      "\u001b[0;31mAttributeError\u001b[0m: module 'posixpath' has no attribute 'splittext'"
     ]
    },
    {
     "name": "stdout",
     "output_type": "stream",
     "text": [
      "add include path : /home/exp/ANAROOT/anaroot/include\n",
      "reading libXMLParser.so\n",
      "reading libananadeko.so\n",
      "reading libanacore.so\n",
      "reading libanabrips.so\n",
      "reading libanadali.so\n",
      "reading libanasamurai.so\n",
      "reading libanacatana.so\n",
      "reading libanaespri.so\n",
      "reading libanawinds.so\n",
      "reading libanaloop.so\n",
      "reading libanaloopexample.so\n",
      "reading libanaloopencexample.so\n"
     ]
    }
   ],
   "source": [
    "import ROOT as r\n",
    "import numpy as np\n",
    "import os\n",
    "\n",
    "%jsroot on\n",
    "r.gROOT.ProcessLine(\".x ../../../rootlogon.C\")\n",
    "\n",
    "file_path = '../../../ROOT/f7ge_test0150.root'\n",
    "root_file = r.TFile(file_path)\n",
    "\n",
    "base_name = os.path.splittext(os.path.basename(file_path))[0]\n",
    "\n"
   ]
  }
 ],
 "metadata": {
  "kernelspec": {
   "display_name": "Python 3 (ipykernel)",
   "language": "python",
   "name": "python3"
  },
  "language_info": {
   "codemirror_mode": {
    "name": "ipython",
    "version": 3
   },
   "file_extension": ".py",
   "mimetype": "text/x-python",
   "name": "python",
   "nbconvert_exporter": "python",
   "pygments_lexer": "ipython3",
   "version": "3.12.3"
  }
 },
 "nbformat": 4,
 "nbformat_minor": 5
}
