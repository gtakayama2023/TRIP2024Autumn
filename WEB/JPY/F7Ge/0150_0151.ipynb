{
 "cells": [
  {
   "cell_type": "code",
   "execution_count": 1,
   "id": "c7115391-460b-47c6-b66a-58fbcd170053",
   "metadata": {},
   "outputs": [
    {
     "name": "stdout",
     "output_type": "stream",
     "text": [
      "add include path : /home/exp/ANAROOT/anaroot/include\n",
      "reading libXMLParser.so\n",
      "reading libananadeko.so\n",
      "reading libanacore.so\n",
      "reading libanabrips.so\n",
      "reading libanadali.so\n",
      "reading libanasamurai.so\n",
      "reading libanacatana.so\n",
      "reading libanaespri.so\n",
      "reading libanawinds.so\n",
      "reading libanaloop.so\n",
      "reading libanaloopexample.so\n",
      "reading libanaloopencexample.so\n"
     ]
    },
    {
     "name": "stderr",
     "output_type": "stream",
     "text": [
      "Error in <TFile::TFile>: file /home/exp/EXP/RIBF/TRIP/2024/AUTUMN/USR/default/WEB/JPY/F7Ge/../../../ROOT/MERGED/f7ge_test0150_0151.root does not exist\n"
     ]
    },
    {
     "ename": "OSError",
     "evalue": "Failed to open file ../../../ROOT/MERGED/f7ge_test0150_0151.root",
     "output_type": "error",
     "traceback": [
      "\u001b[0;31m---------------------------------------------------------------------------\u001b[0m",
      "\u001b[0;31mOSError\u001b[0m                                   Traceback (most recent call last)",
      "Cell \u001b[0;32mIn[1], line 8\u001b[0m\n\u001b[1;32m      5\u001b[0m r\u001b[38;5;241m.\u001b[39mgROOT\u001b[38;5;241m.\u001b[39mProcessLine(\u001b[38;5;124m\"\u001b[39m\u001b[38;5;124m.x ../../../rootlogon.C\u001b[39m\u001b[38;5;124m\"\u001b[39m)\n\u001b[1;32m      7\u001b[0m file_path \u001b[38;5;241m=\u001b[39m \u001b[38;5;124m'\u001b[39m\u001b[38;5;124m../../../ROOT/MERGED/f7ge_test0150_0151.root\u001b[39m\u001b[38;5;124m'\u001b[39m\n\u001b[0;32m----> 8\u001b[0m root_file \u001b[38;5;241m=\u001b[39m \u001b[43mr\u001b[49m\u001b[38;5;241;43m.\u001b[39;49m\u001b[43mTFile\u001b[49m\u001b[43m(\u001b[49m\u001b[43mfile_path\u001b[49m\u001b[43m)\u001b[49m\n",
      "File \u001b[0;32m~/ROOT/root/lib/ROOT/_pythonization/_tfile.py:88\u001b[0m, in \u001b[0;36m_TFileConstructor\u001b[0;34m(self, *args)\u001b[0m\n\u001b[1;32m     86\u001b[0m \u001b[38;5;28;01mif\u001b[39;00m \u001b[38;5;28mlen\u001b[39m(args) \u001b[38;5;241m>\u001b[39m\u001b[38;5;241m=\u001b[39m \u001b[38;5;241m1\u001b[39m:\n\u001b[1;32m     87\u001b[0m     \u001b[38;5;28;01mif\u001b[39;00m \u001b[38;5;28mself\u001b[39m\u001b[38;5;241m.\u001b[39mIsZombie():\n\u001b[0;32m---> 88\u001b[0m         \u001b[38;5;28;01mraise\u001b[39;00m \u001b[38;5;167;01mOSError\u001b[39;00m(\u001b[38;5;124m'\u001b[39m\u001b[38;5;124mFailed to open file \u001b[39m\u001b[38;5;132;01m{}\u001b[39;00m\u001b[38;5;124m'\u001b[39m\u001b[38;5;241m.\u001b[39mformat(args[\u001b[38;5;241m0\u001b[39m]))\n",
      "\u001b[0;31mOSError\u001b[0m: Failed to open file ../../../ROOT/MERGED/f7ge_test0150_0151.root"
     ]
    }
   ],
   "source": [
    "import ROOT as r\n",
    "import numpy as np\n",
    "%jsroot on\n",
    "\n",
    "r.gROOT.ProcessLine(\".x ../../../rootlogon.C\")\n",
    "\n",
    "file_path = '../../../ROOT/MERGED/f7ge_test0150_0151.root'\n",
    "root_file = r.TFile(file_path)"
   ]
  },
  {
   "cell_type": "code",
   "execution_count": null,
   "id": "348a0902-adf7-480a-955b-4c6e5ab1671f",
   "metadata": {},
   "outputs": [],
   "source": []
  }
 ],
 "metadata": {
  "kernelspec": {
   "display_name": "Python 3 (ipykernel)",
   "language": "python",
   "name": "python3"
  },
  "language_info": {
   "codemirror_mode": {
    "name": "ipython",
    "version": 3
   },
   "file_extension": ".py",
   "mimetype": "text/x-python",
   "name": "python",
   "nbconvert_exporter": "python",
   "pygments_lexer": "ipython3",
   "version": "3.12.3"
  }
 },
 "nbformat": 4,
 "nbformat_minor": 5
}
