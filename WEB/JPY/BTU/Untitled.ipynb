{
 "cells": [
  {
   "cell_type": "code",
   "execution_count": 2,
   "id": "72c4c39b-490a-44f3-88e6-81b1af4ec1af",
   "metadata": {},
   "outputs": [
    {
     "name": "stdout",
     "output_type": "stream",
     "text": [
      "add include path : /home/exp/ANAROOT/anaroot/include\n",
      "reading libXMLParser.so\n",
      "reading libananadeko.so\n",
      "reading libanacore.so\n",
      "reading libanabrips.so\n",
      "reading libanadali.so\n",
      "reading libanasamurai.so\n",
      "reading libanacatana.so\n",
      "reading libanaespri.so\n",
      "reading libanawinds.so\n",
      "reading libanaloop.so\n",
      "reading libanaloopexample.so\n",
      "reading libanaloopencexample.so\n"
     ]
    }
   ],
   "source": [
    "import ROOT as r\n",
    "import numpy as np\n",
    "%jsroot\n",
    "\n",
    "r.gROOT.ProcessLine(\".x ../../../rootlogon.C\")\n",
    "\n",
    "file_path='../../../ROOT/btu0207.root'\n",
    "root_file=r.TFile(file_path)"
   ]
  },
  {
   "cell_type": "code",
   "execution_count": null,
   "id": "0e9d0aac-9e6e-413b-98d0-e6f22ba1306d",
   "metadata": {},
   "outputs": [],
   "source": [
    "r.tree.Draw(\"\")"
   ]
  }
 ],
 "metadata": {
  "kernelspec": {
   "display_name": "Python 3 (ipykernel)",
   "language": "python",
   "name": "python3"
  },
  "language_info": {
   "codemirror_mode": {
    "name": "ipython",
    "version": 3
   },
   "file_extension": ".py",
   "mimetype": "text/x-python",
   "name": "python",
   "nbconvert_exporter": "python",
   "pygments_lexer": "ipython3",
   "version": "3.12.3"
  }
 },
 "nbformat": 4,
 "nbformat_minor": 5
}
